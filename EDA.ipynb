{
 "cells": [
  {
   "cell_type": "markdown",
   "id": "b0575e35",
   "metadata": {},
   "source": [
    "# EDA Analysis & joining the data"
   ]
  },
  {
   "cell_type": "markdown",
   "id": "8c71f1d8",
   "metadata": {},
   "source": [
    "I'll be building the db while analysing the results. Idea - combine the columns we are goint to use for the regression etc."
   ]
  },
  {
   "cell_type": "code",
   "execution_count": 154,
   "id": "bb714f66",
   "metadata": {},
   "outputs": [
    {
     "name": "stdout",
     "output_type": "stream",
     "text": [
      "\n",
      "Index(['id', 'price', 'Name', 'Year', 'min_players', 'max_players',\n",
      "       'min_playtime', 'max_playtime', 'min_age', 'category', 'mechanic',\n",
      "       'userrated', 'avg_rate'],\n",
      "      dtype='object')\n"
     ]
    }
   ],
   "source": [
    "import pandas as pd\n",
    "import ast\n",
    "\n",
    "\n",
    "bg = pd.read_csv(\"data/board-game.csv\")\n",
    "ids_and_price = pd.read_csv(\"data/price.csv\")\n",
    "ratings = pd.read_csv(\"data/rating.csv\")\n",
    "\n",
    "df = pd.concat([ids_and_price, bg], axis=1)\n",
    "\n",
    "# I don't think we need these..\n",
    "df = df.drop(['rank', 'owned', 'trading', 'wanting', 'wishing', 'num_comments', 'num_weights', 'avg_weight'], axis=1)\n",
    "print()\n",
    "print(df.columns)"
   ]
  },
  {
   "cell_type": "code",
   "execution_count": 155,
   "id": "088e1b65",
   "metadata": {},
   "outputs": [
    {
     "name": "stdout",
     "output_type": "stream",
     "text": [
      "Index(['id', 'Name', 'Year', 'min_players', 'max_players', 'min_playtime',\n",
      "       'max_playtime', 'min_age', 'category', 'mechanic', 'userrated',\n",
      "       'avg_rate', 'price'],\n",
      "      dtype='object')\n"
     ]
    }
   ],
   "source": [
    "# reorder columns\n",
    "order = ['id', 'Name', 'Year', 'min_players', 'max_players', 'min_playtime', 'max_playtime', 'min_age', 'category', 'mechanic', 'userrated', 'avg_rate', 'price']\n",
    "df = df[order]\n",
    "print(df.columns)"
   ]
  },
  {
   "cell_type": "markdown",
   "id": "d632f059",
   "metadata": {},
   "source": [
    "## RATING\n"
   ]
  },
  {
   "cell_type": "code",
   "execution_count": 176,
   "id": "8ead025a",
   "metadata": {},
   "outputs": [
    {
     "name": "stdout",
     "output_type": "stream",
     "text": [
      "Rating distribution:\n",
      "min avg_rate: 6.37986\n",
      "max avg_rate: 9.16242\n",
      "0.0065\n",
      "0.208\n",
      "0.4175\n",
      "0.276\n",
      "0.015\n",
      "0.001\n"
     ]
    }
   ],
   "source": [
    "print(\"Rating distribution:\")\n",
    "print(f\"min avg_rate: {df['avg_rate'].min()}\")\n",
    "print(f\"max avg_rate: {df['avg_rate'].max()}\")\n",
    "\n",
    "print(((df.loc[df[\"avg_rate\"]<=6.5]).shape[0])/2000)\n",
    "print(((df.loc[(df[\"avg_rate\"]>6.5) & (df[\"avg_rate\"]<=7)]).shape[0])/2000)\n",
    "print(((df.loc[(df[\"avg_rate\"]>7) & (df[\"avg_rate\"]<=7.5)]).shape[0])/2000)\n",
    "print(((df.loc[(df[\"avg_rate\"]>7.5) & (df[\"avg_rate\"]<=8)]).shape[0])/2000)\n",
    "print(((df.loc[(df[\"avg_rate\"]>8.5) & (df[\"avg_rate\"]<=9)]).shape[0])/2000)\n",
    "print(((df.loc[(df[\"avg_rate\"]>9)]).shape[0])/2000)\n",
    "\n"
   ]
  },
  {
   "cell_type": "markdown",
   "id": "20cdd045",
   "metadata": {},
   "source": [
    "#### FINDINGS\n",
    "* Worst average is 6.38 and best 9.16..\n",
    "* 60% of averages fall between 6.5 and 7.5.. could have hoped for a wider span...\n",
    "* Did you have some great idea to use the grade distributions here...?"
   ]
  },
  {
   "cell_type": "markdown",
   "id": "7f2c5832",
   "metadata": {},
   "source": [
    "## YEAR"
   ]
  },
  {
   "cell_type": "code",
   "execution_count": 156,
   "id": "b6d8b82f",
   "metadata": {},
   "outputs": [
    {
     "name": "stdout",
     "output_type": "stream",
     "text": [
      "Year distribution:\n",
      " 2019    164\n",
      " 2017    161\n",
      " 2018    149\n",
      " 2015    136\n",
      " 2016    131\n",
      " 2020    125\n",
      " 2021    120\n",
      " 2014    106\n",
      " 2022    101\n",
      " 2012     83\n",
      " 2013     83\n",
      " 2011     77\n",
      " 2010     65\n",
      " 2009     58\n",
      " 2008     48\n",
      " 2007     44\n",
      " 2004     41\n",
      " 2005     41\n",
      " 2006     29\n",
      " 2003     21\n",
      " 1999     20\n",
      " 2000     19\n",
      " 2023     18\n",
      " 1995     15\n",
      " 2002     15\n",
      " 2001     13\n",
      " 1997     11\n",
      " 1998     10\n",
      " 1994      8\n",
      " 1996      7\n",
      " 1986      6\n",
      " 1983      5\n",
      " 1990      5\n",
      " 1992      4\n",
      " 1977      4\n",
      " 1985      4\n",
      " 1982      4\n",
      " 1993      3\n",
      " 1980      3\n",
      " 1991      3\n",
      " 1981      3\n",
      " 1989      3\n",
      " 1979      3\n",
      " 1974      3\n",
      " 1988      2\n",
      " 0         2\n",
      " 1987      2\n",
      " 1876      1\n",
      " 1971      1\n",
      " 1962      1\n",
      " 1475      1\n",
      " 1964      1\n",
      " 1848      1\n",
      " 1978      1\n",
      " 1925      1\n",
      " 1810      1\n",
      " 762       1\n",
      " 1903      1\n",
      " 1800      1\n",
      "-2200      1\n",
      " 1960      1\n",
      " 1984      1\n",
      " 1630      1\n",
      " 1973      1\n",
      " 1635      1\n",
      " 1587      1\n",
      " 1959      1\n",
      " 1850      1\n",
      " 1938      1\n",
      "Name: Year, dtype: int64\n"
     ]
    }
   ],
   "source": [
    "year_distribution = df[\"Year\"].value_counts()\n",
    "\n",
    "# This will allow terminal to print all rows\n",
    "pd.options.display.max_rows = None\n",
    "\n",
    "print(\"Year distribution:\")\n",
    "print(year_distribution)"
   ]
  },
  {
   "cell_type": "markdown",
   "id": "7e5b23ab",
   "metadata": {},
   "source": [
    "####  FINDING\n",
    "* Interesting years: -2200, 762, , -1, 0 - Are these valid? Theoretically possible, lets see :)\n"
   ]
  },
  {
   "cell_type": "code",
   "execution_count": 157,
   "id": "02720f55",
   "metadata": {},
   "outputs": [
    {
     "name": "stdout",
     "output_type": "stream",
     "text": [
      "                  Name  Year\n",
      "429                 Go -2200\n",
      "601             Carrom     0\n",
      "1184           Xiangqi   762\n",
      "1820  Eat Poop You Cat     0\n"
     ]
    }
   ],
   "source": [
    "weird_years = df.loc[df[\"Year\"] < 1000]\n",
    "print(weird_years[[\"Name\", \"Year\"]])"
   ]
  },
  {
   "cell_type": "markdown",
   "id": "f85a1f19",
   "metadata": {},
   "source": [
    "* Ok, the first three are valid but what about \"eat poop you cat\"? :)"
   ]
  },
  {
   "cell_type": "code",
   "execution_count": 158,
   "id": "b3dc129c",
   "metadata": {},
   "outputs": [
    {
     "name": "stdout",
     "output_type": "stream",
     "text": [
      "         id              Name  Year  min_players  max_players  min_playtime  \\\n",
      "1820  30618  Eat Poop You Cat     0            3           99            20   \n",
      "\n",
      "      max_playtime  min_age                 category              mechanic  \\\n",
      "1820            20        0  ['Humor', 'Party Game']  ['Paper-and-Pencil']   \n",
      "\n",
      "      userrated  avg_rate price  \n",
      "1820       1681   7.46654    -1  \n"
     ]
    }
   ],
   "source": [
    "print(df.loc[df[\"Name\"] == \"Eat Poop You Cat\"])"
   ]
  },
  {
   "cell_type": "markdown",
   "id": "00f92893",
   "metadata": {},
   "source": [
    "* ok, year might be wrong, but it is only one data point. Might not require cleaning.\n",
    "* But the years could be categorized if we wanted to.."
   ]
  },
  {
   "cell_type": "code",
   "execution_count": 194,
   "id": "fd4f9c51",
   "metadata": {},
   "outputs": [
    {
     "name": "stdout",
     "output_type": "stream",
     "text": [
      "14\n",
      "89\n",
      "152\n"
     ]
    }
   ],
   "source": [
    "print(df.loc[df[\"Year\"] < 1925].shape[0])\n",
    "print(df.loc[df[\"Year\"] < 1995].shape[0])\n",
    "print(df.loc[df[\"Year\"] < 2000].shape[0])"
   ]
  },
  {
   "cell_type": "markdown",
   "id": "c5411c51",
   "metadata": {},
   "source": [
    "## YEAR AND RATING"
   ]
  },
  {
   "cell_type": "code",
   "execution_count": 193,
   "id": "f3d309b1",
   "metadata": {},
   "outputs": [
    {
     "data": {
      "image/png": "[encoded data removed]",
      "text/plain": [
       "<Figure size 640x480 with 1 Axes>"
      ]
     },
     "metadata": {},
     "output_type": "display_data"
    }
   ],
   "source": [
    "import matplotlib.pyplot as plt\n",
    "\n",
    "\n",
    "plt.scatter(df[\"Year\"], df[\"avg_rate\"])\n",
    "plt.xlim(1925,2024)\n",
    "plt.show()"
   ]
  },
  {
   "cell_type": "code",
   "execution_count": 195,
   "id": "c59cfa5d",
   "metadata": {},
   "outputs": [
    {
     "data": {
      "image/png": "[encoded data removed]",
      "text/plain": [
       "<Figure size 640x480 with 1 Axes>"
      ]
     },
     "metadata": {},
     "output_type": "display_data"
    }
   ],
   "source": [
    "plt.scatter(df[\"Year\"], df[\"avg_rate\"])\n",
    "plt.xlim(1995,2024)\n",
    "plt.show()"
   ]
  },
  {
   "cell_type": "markdown",
   "id": "1037f0e0",
   "metadata": {},
   "source": [
    "#### FINDINGS\n",
    "* It would seem that newer board games get better reviews.. :)\n",
    "* So if we don't design the games in the past, they are better :)\n",
    "* People have just gotten better in designing games..."
   ]
  },
  {
   "cell_type": "markdown",
   "id": "e69dbd43",
   "metadata": {},
   "source": [
    "## NUMBER OF PLAYERS"
   ]
  },
  {
   "cell_type": "code",
   "execution_count": 159,
   "id": "251b70d3",
   "metadata": {},
   "outputs": [
    {
     "name": "stdout",
     "output_type": "stream",
     "text": [
      "Min distribution:\n",
      "2    58.05\n",
      "1    31.35\n",
      "3     8.50\n",
      "4     1.55\n",
      "5     0.40\n",
      "6     0.10\n",
      "8     0.05\n",
      "Name: min_players, dtype: float64\n"
     ]
    }
   ],
   "source": [
    "# min players\n",
    "value_distribution_min = df[\"min_players\"].value_counts(normalize=True) * 100\n",
    "print(\"Min distribution:\")\n",
    "print(value_distribution_min)"
   ]
  },
  {
   "cell_type": "markdown",
   "id": "021cff82",
   "metadata": {},
   "source": [
    "#### FINDING: \n",
    "* Nearly every third game can be played alone "
   ]
  },
  {
   "cell_type": "code",
   "execution_count": 160,
   "id": "48d6fc57",
   "metadata": {},
   "outputs": [
    {
     "name": "stdout",
     "output_type": "stream",
     "text": [
      "Max distribution:\n",
      "4      43.95\n",
      "5      21.10\n",
      "2      11.95\n",
      "6      11.90\n",
      "8       3.75\n",
      "7       1.90\n",
      "3       1.20\n",
      "1       1.10\n",
      "10      1.10\n",
      "12      0.55\n",
      "18      0.25\n",
      "9       0.25\n",
      "99      0.25\n",
      "100     0.20\n",
      "20      0.15\n",
      "16      0.15\n",
      "30      0.05\n",
      "50      0.05\n",
      "68      0.05\n",
      "11      0.05\n",
      "13      0.05\n",
      "Name: max_players, dtype: float64\n"
     ]
    }
   ],
   "source": [
    "# max players\"\n",
    "value_distribution_max = df[\"max_players\"].value_counts(normalize=True) * 100\n",
    "print(\"Max distribution:\")\n",
    "print(value_distribution_max)"
   ]
  },
  {
   "cell_type": "markdown",
   "id": "1bfd9aaa",
   "metadata": {},
   "source": [
    "#### FINDINGS: \n",
    "* ~ 40% can be played by more than 5 player, ~ 20% by more than 6 players..\n",
    "* This could be used better in the final analysis, if divided into several columns: you can play alone, with 2, 3, 4, 5, 6 or more. -> \"Play_alone\", \"2_players\", \"3_players\", \"4_players\", \"5_players\", \"6_or_more\""
   ]
  },
  {
   "cell_type": "code",
   "execution_count": 161,
   "id": "3f271729",
   "metadata": {},
   "outputs": [
    {
     "name": "stdout",
     "output_type": "stream",
     "text": [
      "Percentages:\n",
      "Can be played alone: 31.35\n",
      "Can be played by 2 players: 88.3\n",
      "Can be played by 3 players: 84.85000000000001\n",
      "Can be played by 4 players: 85.2\n",
      "Can be played by 5 players: 41.65\n",
      "Can be played by 6 or more players: 20.65\n",
      "\n"
     ]
    }
   ],
   "source": [
    "# New columns = you can play alone, with 2, 3, 4, 5, 6 or more. \"Play_alone\", \"2_players\", \"3_players\", \"4_players\", \"5_players\", \"6_or_more\"\n",
    "df['Play_alone'] = df.apply(lambda row: 1 if (row['min_players'] <= 1) else 0, axis=1)\n",
    "df['2_players'] = df.apply(lambda row: 1 if (row['min_players'] <= 2) and (row['max_players'] >= 2) else 0, axis=1)\n",
    "df['3_players'] = df.apply(lambda row: 1 if (row['min_players'] <= 3) and (row['max_players'] >= 3) else 0, axis=1)\n",
    "df['4_players'] = df.apply(lambda row: 1 if (row['min_players'] <= 4) and (row['max_players'] >= 4) else 0, axis=1)\n",
    "df['5_players'] = df.apply(lambda row: 1 if (row['min_players'] <= 5) and (row['max_players'] >= 5) else 0, axis=1)\n",
    "df['6_or_more'] = df.apply(lambda row: 1 if (row['min_players'] <= 6) and (row['max_players'] >= 6) else 0, axis=1)\n",
    "print(\"Percentages:\")\n",
    "print(f'Can be played alone: {df[\"Play_alone\"].sum() / 2000 * 100}')\n",
    "print(f'Can be played by 2 players: {df[\"2_players\"].sum() / 2000 * 100}')\n",
    "print(f'Can be played by 3 players: {df[\"3_players\"].sum() / 2000 * 100}')\n",
    "print(f'Can be played by 4 players: {df[\"4_players\"].sum() / 2000 * 100}')\n",
    "print(f'Can be played by 5 players: {df[\"5_players\"].sum() / 2000 * 100}')\n",
    "print(f'Can be played by 6 or more players: {df[\"6_or_more\"].sum() / 2000 * 100}')\n",
    "print()\n"
   ]
  },
  {
   "cell_type": "markdown",
   "id": "484b8bfa",
   "metadata": {},
   "source": [
    "#### FINDINGS: \n",
    "* Clear majority of games can be played by 2-4 persons. \n",
    "* There could be some interesting findigs / differences when it comes to games that can be played alone or by more than 5 players.."
   ]
  },
  {
   "cell_type": "markdown",
   "id": "d56d5376",
   "metadata": {},
   "source": [
    "## NR OF PLAYERS AND RANKING"
   ]
  },
  {
   "cell_type": "code",
   "execution_count": 216,
   "id": "e51dbcd9",
   "metadata": {},
   "outputs": [
    {
     "data": {
      "image/png": "[encoded data removed]",
      "text/plain": [
       "<Figure size 640x480 with 1 Axes>"
      ]
     },
     "metadata": {},
     "output_type": "display_data"
    },
    {
     "name": "stdout",
     "output_type": "stream",
     "text": [
      "[7.56058909090909, 7.386809694224236, 7.356208532704773, 7.34894257629108, 7.29106350540216, 7.253268765133171]\n"
     ]
    }
   ],
   "source": [
    "# How to do this smarten than this? We would need it when we do the same to the categories....\n",
    "\n",
    "player_cat = [\"Alone\", \"2players\", \"3players\", \"4players\", \"5players\", \"6orMore\"]\n",
    "player_averages = []\n",
    "\n",
    "player_averages.append(df.loc[df[\"Play_alone\"] == 1][\"avg_rate\"].mean())\n",
    "player_averages.append(df.loc[df[\"2_players\"] == 1][\"avg_rate\"].mean())\n",
    "player_averages.append(df.loc[df[\"3_players\"] == 1][\"avg_rate\"].mean())\n",
    "player_averages.append(df.loc[df[\"4_players\"] == 1][\"avg_rate\"].mean())\n",
    "player_averages.append(df.loc[df[\"5_players\"] == 1][\"avg_rate\"].mean())\n",
    "player_averages.append(df.loc[df[\"6_or_more\"] == 1][\"avg_rate\"].mean())\n",
    "\n",
    "\n",
    "plt.bar(player_cat, player_averages)\n",
    "plt.show()\n",
    "\n",
    "# no point really to draw pictures..\n",
    "\n",
    "print(player_averages)\n"
   ]
  },
  {
   "cell_type": "markdown",
   "id": "987a1291",
   "metadata": {},
   "source": [
    "#### FINDIGNS\n",
    "* Seems that games that you can play alone are the most liked ones.."
   ]
  },
  {
   "cell_type": "markdown",
   "id": "2be91fc1",
   "metadata": {},
   "source": [
    "## PLAYTIME"
   ]
  },
  {
   "cell_type": "code",
   "execution_count": 162,
   "id": "b36e498d",
   "metadata": {},
   "outputs": [
    {
     "name": "stdout",
     "output_type": "stream",
     "text": [
      "Min playtime distribution:\n",
      "60     22.10\n",
      "30     21.00\n",
      "45     14.60\n",
      "90      9.00\n",
      "20      8.15\n",
      "120     6.30\n",
      "15      4.90\n",
      "180     2.60\n",
      "40      2.55\n",
      "75      1.65\n",
      "10      1.25\n",
      "25      1.00\n",
      "360     0.70\n",
      "240     0.65\n",
      "5       0.65\n",
      "50      0.55\n",
      "150     0.30\n",
      "80      0.30\n",
      "35      0.30\n",
      "100     0.20\n",
      "0       0.15\n",
      "300     0.15\n",
      "135     0.15\n",
      "210     0.10\n",
      "70      0.10\n",
      "420     0.10\n",
      "480     0.05\n",
      "16      0.05\n",
      "105     0.05\n",
      "42      0.05\n",
      "7       0.05\n",
      "1       0.05\n",
      "110     0.05\n",
      "720     0.05\n",
      "2       0.05\n",
      "8       0.05\n",
      "Name: min_playtime, dtype: float64\n"
     ]
    }
   ],
   "source": [
    "min_time_dist = df[\"min_playtime\"].value_counts(normalize=True) * 100\n",
    "print(\"Min playtime distribution:\")\n",
    "print(min_time_dist)"
   ]
  },
  {
   "cell_type": "markdown",
   "id": "f774ac70",
   "metadata": {},
   "source": [
    "* Crap. no nice \"division\" here...\n"
   ]
  },
  {
   "cell_type": "code",
   "execution_count": 163,
   "id": "0c89a219",
   "metadata": {},
   "outputs": [
    {
     "name": "stdout",
     "output_type": "stream",
     "text": [
      "0.0225\n",
      "0.131\n",
      "0.22\n",
      "0.0285\n",
      "0.152\n",
      "0.221\n",
      "0.1105\n",
      "0.066\n",
      "0.0305\n",
      "0.018\n"
     ]
    }
   ],
   "source": [
    "print(((df.loc[df[\"min_playtime\"]<=10]).shape[0])/2000)\n",
    "print(((df.loc[(df[\"min_playtime\"]>10) & (df[\"min_playtime\"]<=20)]).shape[0])/2000)\n",
    "print(((df.loc[(df[\"min_playtime\"]>20) & (df[\"min_playtime\"]<=30)]).shape[0])/2000)\n",
    "print(((df.loc[(df[\"min_playtime\"]>30) & (df[\"min_playtime\"]<=40)]).shape[0])/2000)\n",
    "print(((df.loc[(df[\"min_playtime\"]>40) & (df[\"min_playtime\"]<=50)]).shape[0])/2000)\n",
    "print(((df.loc[(df[\"min_playtime\"]>50) & (df[\"min_playtime\"]<=60)]).shape[0])/2000)\n",
    "print(((df.loc[(df[\"min_playtime\"]>60) & (df[\"min_playtime\"]<=90)]).shape[0])/2000)\n",
    "print(((df.loc[(df[\"min_playtime\"]>90) & (df[\"min_playtime\"]<=120)]).shape[0])/2000)\n",
    "print(((df.loc[(df[\"min_playtime\"]>120) & (df[\"min_playtime\"]<=180)]).shape[0])/2000)\n",
    "print(((df.loc[(df[\"min_playtime\"]>180)]).shape[0])/2000)\n"
   ]
  },
  {
   "cell_type": "markdown",
   "id": "21c60493",
   "metadata": {},
   "source": [
    "* ok, lets fix these a bit.."
   ]
  },
  {
   "cell_type": "code",
   "execution_count": 211,
   "id": "e17e46fe",
   "metadata": {},
   "outputs": [
    {
     "name": "stdout",
     "output_type": "stream",
     "text": [
      "0.1535\n",
      "0.22\n",
      "0.0285\n",
      "0.152\n",
      "0.221\n",
      "0.225\n"
     ]
    }
   ],
   "source": [
    "print(((df.loc[df[\"min_playtime\"]<=20]).shape[0])/2000)\n",
    "print(((df.loc[(df[\"min_playtime\"]>20) & (df[\"min_playtime\"]<=30)]).shape[0])/2000)\n",
    "print(((df.loc[(df[\"min_playtime\"]>30) & (df[\"min_playtime\"]<=40)]).shape[0])/2000)\n",
    "print(((df.loc[(df[\"min_playtime\"]>40) & (df[\"min_playtime\"]<=50)]).shape[0])/2000)\n",
    "print(((df.loc[(df[\"min_playtime\"]>50) & (df[\"min_playtime\"]<=60)]).shape[0])/2000)\n",
    "print(((df.loc[(df[\"min_playtime\"]>60)]).shape[0])/2000)"
   ]
  },
  {
   "cell_type": "markdown",
   "id": "0c94ca7b",
   "metadata": {},
   "source": [
    "* Ok, this could be an evaluation criteria... I'll add a column with these categories. \n"
   ]
  },
  {
   "cell_type": "code",
   "execution_count": 214,
   "id": "cd698313",
   "metadata": {},
   "outputs": [
    {
     "name": "stdout",
     "output_type": "stream",
     "text": [
      "min_playtime_category\n",
      "20-30min    7.247506\n",
      "30-50min    7.390100\n",
      "40-50min    7.310112\n",
      "50-60min    7.468100\n",
      "<=20min     7.179288\n",
      ">60min      7.567949\n",
      "Name: avg_rate, dtype: float64\n"
     ]
    }
   ],
   "source": [
    "# help function to get the right value\n",
    "def get_mintime_category(row):\n",
    "    if row[\"min_playtime\"] <= 20:\n",
    "        return \"<=20min\"\n",
    "    elif 20 < row[\"min_playtime\"] <= 30:\n",
    "        return \"20-30min\"\n",
    "    elif 30 < row[\"min_playtime\"] <= 40:\n",
    "        return \"30-50min\"\n",
    "    elif 40 < row[\"min_playtime\"] <= 50:\n",
    "        return \"40-50min\"\n",
    "    elif 50 < row[\"min_playtime\"] <= 60:\n",
    "        return \"50-60min\"\n",
    "    else:\n",
    "        return \">60min\"\n",
    "    \n",
    "df[\"min_playtime_category\"] = df.apply(get_mintime_category, axis=1)\n",
    "\n",
    "mintime_groups = df.groupby(\"min_playtime_category\")\n",
    "mintime_groups_avgrates = mintime_groups[\"avg_rate\"].mean()\n",
    "\n",
    "print(mintime_groups_avgrates)"
   ]
  },
  {
   "cell_type": "markdown",
   "id": "b9e0b9bd",
   "metadata": {},
   "source": [
    "#### FINDINGS\n",
    "* The longer the game lasts to begin with the better!\n",
    "* And then the same with max values..."
   ]
  },
  {
   "cell_type": "code",
   "execution_count": 165,
   "id": "c4a250cf",
   "metadata": {},
   "outputs": [
    {
     "name": "stdout",
     "output_type": "stream",
     "text": [
      "Max playtime distribution:\n",
      "60       17.95\n",
      "90       13.55\n",
      "120      12.80\n",
      "30       12.10\n",
      "45       11.55\n",
      "180       4.95\n",
      "20        4.65\n",
      "40        3.00\n",
      "75        2.85\n",
      "240       2.70\n",
      "150       2.50\n",
      "15        2.45\n",
      "360       1.25\n",
      "100       0.95\n",
      "25        0.85\n",
      "80        0.80\n",
      "10        0.65\n",
      "50        0.60\n",
      "300       0.60\n",
      "70        0.30\n",
      "35        0.30\n",
      "200       0.25\n",
      "480       0.25\n",
      "210       0.20\n",
      "720       0.15\n",
      "140       0.15\n",
      "0         0.15\n",
      "125       0.15\n",
      "135       0.15\n",
      "1000      0.10\n",
      "900       0.10\n",
      "270       0.10\n",
      "420       0.10\n",
      "1200      0.10\n",
      "540       0.05\n",
      "105       0.05\n",
      "6000      0.05\n",
      "32        0.05\n",
      "999       0.05\n",
      "42        0.05\n",
      "110       0.05\n",
      "160       0.05\n",
      "5         0.05\n",
      "165       0.05\n",
      "115       0.05\n",
      "2         0.05\n",
      "12000     0.05\n",
      "3000      0.05\n",
      "Name: max_playtime, dtype: float64\n"
     ]
    }
   ],
   "source": [
    "max_time_dist = df[\"max_playtime\"].value_counts(normalize=True) * 100\n",
    "print(\"Max playtime distribution:\")\n",
    "print(max_time_dist)"
   ]
  },
  {
   "cell_type": "code",
   "execution_count": null,
   "id": "b060eac1",
   "metadata": {},
   "outputs": [],
   "source": []
  },
  {
   "cell_type": "markdown",
   "id": "af27247a",
   "metadata": {},
   "source": [
    "* zeros are not valid...\n",
    "* And if we take the average, it might not tell the relevant info... so I'll classify these too.."
   ]
  },
  {
   "cell_type": "code",
   "execution_count": 166,
   "id": "65563445",
   "metadata": {},
   "outputs": [
    {
     "name": "stdout",
     "output_type": "stream",
     "text": [
      "0.009\n",
      "0.071\n",
      "0.1295\n",
      "0.0335\n",
      "0.122\n",
      "0.1795\n",
      "0.175\n",
      "0.139\n",
      "0.08\n",
      "0.0615\n"
     ]
    }
   ],
   "source": [
    "print(((df.loc[df[\"max_playtime\"]<=10]).shape[0])/2000)\n",
    "print(((df.loc[(df[\"max_playtime\"]>10) & (df[\"max_playtime\"]<=20)]).shape[0])/2000)\n",
    "print(((df.loc[(df[\"max_playtime\"]>20) & (df[\"max_playtime\"]<=30)]).shape[0])/2000)\n",
    "print(((df.loc[(df[\"max_playtime\"]>30) & (df[\"max_playtime\"]<=40)]).shape[0])/2000)\n",
    "print(((df.loc[(df[\"max_playtime\"]>40) & (df[\"max_playtime\"]<=50)]).shape[0])/2000)\n",
    "print(((df.loc[(df[\"max_playtime\"]>50) & (df[\"max_playtime\"]<=60)]).shape[0])/2000)\n",
    "print(((df.loc[(df[\"max_playtime\"]>60) & (df[\"max_playtime\"]<=90)]).shape[0])/2000)\n",
    "print(((df.loc[(df[\"max_playtime\"]>90) & (df[\"max_playtime\"]<=120)]).shape[0])/2000)\n",
    "print(((df.loc[(df[\"max_playtime\"]>120) & (df[\"max_playtime\"]<=180)]).shape[0])/2000)\n",
    "print(((df.loc[(df[\"max_playtime\"]>180)]).shape[0])/2000)"
   ]
  },
  {
   "cell_type": "markdown",
   "id": "b4990dc4",
   "metadata": {},
   "source": [
    "* Lets fix the categories.."
   ]
  },
  {
   "cell_type": "code",
   "execution_count": 167,
   "id": "d29d01a5",
   "metadata": {},
   "outputs": [
    {
     "name": "stdout",
     "output_type": "stream",
     "text": [
      "0.08\n",
      "0.163\n",
      "0.3015\n",
      "0.175\n",
      "0.139\n",
      "0.1415\n"
     ]
    }
   ],
   "source": [
    "print(((df.loc[df[\"max_playtime\"]<=20]).shape[0])/2000)\n",
    "print(((df.loc[(df[\"max_playtime\"]>20) & (df[\"max_playtime\"]<=40)]).shape[0])/2000)\n",
    "print(((df.loc[(df[\"max_playtime\"]>40) & (df[\"max_playtime\"]<=60)]).shape[0])/2000)\n",
    "print(((df.loc[(df[\"max_playtime\"]>60) & (df[\"max_playtime\"]<=90)]).shape[0])/2000)\n",
    "print(((df.loc[(df[\"max_playtime\"]>90) & (df[\"max_playtime\"]<=120)]).shape[0])/2000)\n",
    "print(((df.loc[(df[\"max_playtime\"]>120)]).shape[0])/2000)"
   ]
  },
  {
   "cell_type": "markdown",
   "id": "7ef94766",
   "metadata": {},
   "source": [
    "* Lets categorise these... "
   ]
  },
  {
   "cell_type": "code",
   "execution_count": 215,
   "id": "f8502fb1",
   "metadata": {},
   "outputs": [
    {
     "name": "stdout",
     "output_type": "stream",
     "text": [
      "max_playtime_category\n",
      "20-40min     7.177735\n",
      "40-60min     7.257697\n",
      "60-90min     7.409662\n",
      "90-120min    7.596756\n",
      "<=20min      7.080096\n",
      ">120min      7.733227\n",
      "Name: avg_rate, dtype: float64\n"
     ]
    }
   ],
   "source": [
    "# help function to get the right value\n",
    "def get_maxtime_category(row):\n",
    "    if row[\"max_playtime\"] <= 20:\n",
    "        return \"<=20min\"\n",
    "    elif 20 < row[\"max_playtime\"] <= 40:\n",
    "        return \"20-40min\"\n",
    "    elif 40 < row[\"max_playtime\"] <= 60:\n",
    "        return \"40-60min\"\n",
    "    elif 60 < row[\"max_playtime\"] <= 90:\n",
    "        return \"60-90min\"\n",
    "    elif 90 < row[\"max_playtime\"] <= 120:\n",
    "        return \"90-120min\"\n",
    "    else:\n",
    "        return \">120min\"\n",
    "    \n",
    "df[\"max_playtime_category\"] = df.apply(get_maxtime_category, axis=1)\n",
    "\n",
    "maxtime_groups = df.groupby(\"max_playtime_category\")\n",
    "maxtime_groups_avgrates = maxtime_groups[\"avg_rate\"].mean()\n",
    "\n",
    "print(maxtime_groups_avgrates)"
   ]
  },
  {
   "cell_type": "markdown",
   "id": "6dca3bee",
   "metadata": {},
   "source": [
    "* Ok also this would say that the longer the game is, the better.."
   ]
  },
  {
   "cell_type": "markdown",
   "id": "95338f7e",
   "metadata": {},
   "source": [
    "## MIN AGE"
   ]
  },
  {
   "cell_type": "code",
   "execution_count": 168,
   "id": "55f7953e",
   "metadata": {},
   "outputs": [
    {
     "name": "stdout",
     "output_type": "stream",
     "text": [
      "Age:\n",
      "12    24.00\n",
      "14    22.60\n",
      "10    20.65\n",
      "8     15.85\n",
      "13    10.00\n",
      "9      1.75\n",
      "7      1.40\n",
      "6      0.80\n",
      "0      0.60\n",
      "16     0.60\n",
      "11     0.60\n",
      "5      0.35\n",
      "15     0.30\n",
      "17     0.30\n",
      "4      0.15\n",
      "18     0.05\n",
      "Name: min_age, dtype: float64\n"
     ]
    }
   ],
   "source": [
    "value_distribution_age = df[\"min_age\"].value_counts(normalize=True) * 100\n",
    "print(\"Age:\")\n",
    "print(value_distribution_age)"
   ]
  },
  {
   "cell_type": "code",
   "execution_count": 169,
   "id": "6f978e27",
   "metadata": {},
   "outputs": [
    {
     "name": "stdout",
     "output_type": "stream",
     "text": [
      "0.1915\n",
      "0.224\n",
      "0.246\n",
      "0.1\n",
      "0.226\n",
      "0.0125\n"
     ]
    }
   ],
   "source": [
    "print(((df.loc[df[\"min_age\"]<=8]).shape[0])/2000)\n",
    "print(((df.loc[(df[\"min_age\"]>8) & (df[\"min_age\"]<=10)]).shape[0])/2000)\n",
    "print(((df.loc[(df[\"min_age\"]>10) & (df[\"min_age\"]<=12)]).shape[0])/2000)\n",
    "print(((df.loc[(df[\"min_age\"]==13)]).shape[0])/2000)\n",
    "print(((df.loc[(df[\"min_age\"]==14)]).shape[0])/2000)\n",
    "print(((df.loc[(df[\"min_age\"]>14)]).shape[0])/2000)\n"
   ]
  },
  {
   "cell_type": "markdown",
   "id": "a018dbfd",
   "metadata": {},
   "source": [
    "#### FINDINGS\n",
    "\n",
    "* Every fifth game is allowed only to under 8 year old players.\n",
    "* Nearly every fourth game requires the player to be at least 14 years old. \n",
    "* I'll categorise these too.."
   ]
  },
  {
   "cell_type": "code",
   "execution_count": 217,
   "id": "04d129af",
   "metadata": {},
   "outputs": [
    {
     "name": "stdout",
     "output_type": "stream",
     "text": [
      "min_age_category\n",
      "11-12years    7.439759\n",
      "13years       7.419583\n",
      "14years       7.615385\n",
      "9-10years     7.222566\n",
      "<=years       7.124589\n",
      ">14years      7.682889\n",
      "Name: avg_rate, dtype: float64\n"
     ]
    }
   ],
   "source": [
    "# help function to get the right value\n",
    "def get_age_category(row):\n",
    "    if row[\"min_age\"] <= 8:\n",
    "        return \"<=years\"\n",
    "    elif 8 < row[\"min_age\"] <= 10:\n",
    "        return \"9-10years\"\n",
    "    elif 10 < row[\"min_age\"] <=12:\n",
    "        return \"11-12years\"\n",
    "    elif row[\"min_age\"] == 13:\n",
    "        return \"13years\"\n",
    "    elif row[\"min_age\"] == 14:\n",
    "        return \"14years\"\n",
    "    else:\n",
    "        return \">14years\"\n",
    "    \n",
    "df[\"min_age_category\"] = df.apply(get_age_category, axis=1)\n",
    "\n",
    "min_age_groups = df.groupby(\"min_age_category\")\n",
    "min_age_groups_avgrates = min_age_groups[\"avg_rate\"].mean()\n",
    "\n",
    "print(min_age_groups_avgrates)"
   ]
  },
  {
   "cell_type": "markdown",
   "id": "261223f7",
   "metadata": {},
   "source": [
    "#### FINDINGS\n",
    "* The older the age target group, the better the game!"
   ]
  },
  {
   "cell_type": "markdown",
   "id": "a5fd9f11",
   "metadata": {},
   "source": [
    "## CATERORIES"
   ]
  },
  {
   "cell_type": "code",
   "execution_count": 170,
   "id": "10f47943",
   "metadata": {},
   "outputs": [
    {
     "name": "stdout",
     "output_type": "stream",
     "text": [
      "                      Category  Number_of_Games\n",
      "0                    card game              541\n",
      "10                     fantasy              417\n",
      "6                     economic              327\n",
      "16                    fighting              273\n",
      "3              science fiction              242\n",
      "21                     wargame              195\n",
      "13                 exploration              194\n",
      "25                   adventure              193\n",
      "1                     medieval              172\n",
      "28                        dice              171\n",
      "26                  miniatures              168\n",
      "27               city building              162\n",
      "30                     animals              146\n",
      "18                   deduction              132\n",
      "2           territory building              131\n",
      "22                     ancient              126\n",
      "17                    bluffing              115\n",
      "23                civilization              106\n",
      "11                      horror              103\n",
      "5            abstract strategy              103\n",
      "31                      puzzle              102\n",
      "19                  party game              101\n",
      "39    industry / manufacturing               93\n",
      "51                   political               88\n",
      "12                 novel-based               82\n",
      "14                    nautical               79\n",
      "49                 negotiation               78\n",
      "46   movies / tv / radio theme               68\n",
      "44                     farming               66\n",
      "4            space exploration               66\n",
      "24                   mythology               65\n",
      "32              transportation               63\n",
      "15                 renaissance               62\n",
      "35                   real-time               61\n",
      "7                       trains               60\n",
      "50                       humor               57\n",
      "43                world war ii               56\n",
      "47               environmental               50\n",
      "36            video game theme               44\n",
      "52                print & play               41\n",
      "59              murder/mystery               41\n",
      "34          action / dexterity               40\n",
      "54             post-napoleonic               39\n",
      "38             children's game               37\n",
      "70         spies/secret agents               37\n",
      "9       collectible components               37\n",
      "37                      racing               32\n",
      "40                      travel               30\n",
      "33                     pirates               30\n",
      "60                 educational               29\n",
      "58          comic book / strip               28\n",
      "29               american west               28\n",
      "72                      sports               28\n",
      "63                     zombies               25\n",
      "48                 prehistoric               24\n",
      "61                      number               22\n",
      "55               age of reason               21\n",
      "57                   word game               18\n",
      "8            aviation / flight               18\n",
      "53                   religious               15\n",
      "67                        maze               15\n",
      "20              modern warfare               14\n",
      "75                     medical               13\n",
      "45                       mafia               13\n",
      "66                   civil war               13\n",
      "62                  napoleonic               12\n",
      "79               pike and shot               12\n",
      "74                      trivia               11\n",
      "64                     arabian               11\n",
      "68                      memory                8\n",
      "71          american civil war                7\n",
      "65        american indian wars                7\n",
      "69                        math                6\n",
      "73              mature / adult                6\n",
      "77                  electronic                6\n",
      "56  american revolutionary war                4\n",
      "76                 world war i                4\n",
      "81                       music                3\n",
      "78                        book                3\n",
      "80     expansion for base-game                3\n",
      "42                 vietnam war                2\n",
      "41                  korean war                1\n",
      "82                 game system                1\n"
     ]
    }
   ],
   "source": [
    "# Getting the category names and freqvences to a dictionary\n",
    "\n",
    "categories_dict = {}\n",
    "\n",
    "for index, row in df.iterrows():\n",
    "    for category in ast.literal_eval(row[\"category\"]):\n",
    "        categories_dict[category.lower()] = categories_dict.get(category.lower(),0) + 1\n",
    "\n",
    "# Savig them to df and sorting it\n",
    "df_categories = pd.DataFrame(pd.Series(categories_dict).reset_index())\n",
    "df_categories.columns=[\"Category\",\"Number_of_Games\"]\n",
    "\n",
    "df_categories = df_categories.sort_values(\"Number_of_Games\", ascending=False)\n",
    "\n",
    "# This will allow terminal to print all rows\n",
    "# pd.options.display.max_rows = None\n",
    "\n",
    "print(df_categories)"
   ]
  },
  {
   "cell_type": "code",
   "execution_count": 171,
   "id": "a538e24a",
   "metadata": {},
   "outputs": [
    {
     "name": "stdout",
     "output_type": "stream",
     "text": [
      "83\n",
      "3.0765\n",
      "14\n",
      "26\n"
     ]
    }
   ],
   "source": [
    "# Analysing the categories:\n",
    "print(df_categories.shape[0])\n",
    "print(df_categories[\"Number_of_Games\"].sum() / 2000)\n",
    "print(df_categories.loc[df_categories[\"Number_of_Games\"] < 10].shape[0])\n",
    "print(df_categories.loc[df_categories[\"Number_of_Games\"] < 20].shape[0])"
   ]
  },
  {
   "cell_type": "markdown",
   "id": "0412e472",
   "metadata": {},
   "source": [
    "#### FINDINGS\n",
    "* Total- 83 categories, on average 3.1 per game.\n",
    "* 14 categories that have less than 10 games in them.\n",
    "* 26 categories that have less than 20 games in them.\n",
    "* Should we ditch these or add a \"other category\" column?"
   ]
  },
  {
   "cell_type": "markdown",
   "id": "cecf6338",
   "metadata": {},
   "source": [
    "## MECHANICS"
   ]
  },
  {
   "cell_type": "code",
   "execution_count": 172,
   "id": "5f674214",
   "metadata": {},
   "outputs": [
    {
     "name": "stdout",
     "output_type": "stream",
     "text": [
      "                                     Mechanic  Number_of_Games\n",
      "2                             hand management              716\n",
      "38                               dice rolling              607\n",
      "29                     variable player powers              579\n",
      "8                              set collection              443\n",
      "7                               open drafting              408\n",
      "27                      solo / solitaire game              370\n",
      "0                   area majority / influence              354\n",
      "48                              modular board              319\n",
      "37                           cooperative game              303\n",
      "45                             tile placement              293\n",
      "75                           worker placement              244\n",
      "35                              action points              224\n",
      "5                               grid movement              223\n",
      "52                            variable set-up              199\n",
      "19               deck, bag, and pool building              193\n",
      "23                              area movement              182\n",
      "69                           end game bonuses              166\n",
      "4               simultaneous action selection              165\n",
      "10                                  take that              164\n",
      "12                               hexagon grid              154\n",
      "28                            team-based game              153\n",
      "11                            auction/bidding              139\n",
      "39                                 simulation              136\n",
      "15                 network and route building              136\n",
      "26                    point to point movement              135\n",
      "50         scenario / mission / campaign game              126\n",
      "60                             push your luck              124\n",
      "102                                 contracts              111\n",
      "57                                     events               97\n",
      "31                         player elimination               95\n",
      "73                        pick-up and deliver               94\n",
      "62                           pattern building               91\n",
      "13                                     income               91\n",
      "49                               role playing               90\n",
      "77                                       race               89\n",
      "36              campaign / battle card driven               82\n",
      "44                                square grid               80\n",
      "59                               storytelling               78\n",
      "84                       variable phase order               71\n",
      "88                               action queue               70\n",
      "103                          paper-and-pencil               64\n",
      "18               victory points as a resource               63\n",
      "40                                    trading               62\n",
      "86                   tech trees / tech tracks               58\n",
      "24                                     market               57\n",
      "20              card play conflict resolution               57\n",
      "53                    turn order: progressive               55\n",
      "85                                     memory               55\n",
      "71                            movement points               54\n",
      "1                             closed drafting               53\n",
      "87                                     voting               53\n",
      "32                       communication limits               52\n",
      "65                     secret unit deployment               52\n",
      "56                             track movement               50\n",
      "76   worker placement, different worker types               49\n",
      "74                   turn order: claim action               49\n",
      "118                             line of sight               47\n",
      "70                               map addition               43\n",
      "94                           action retrieval               42\n",
      "30                       betting and bluffing               42\n",
      "61                              grid coverage               41\n",
      "97                               hidden roles               40\n",
      "125        worker placement with dice workers               40\n",
      "67                                  real-time               39\n",
      "63                     turn order: stat-based               38\n",
      "55                                  ownership               38\n",
      "25                                     rondel               37\n",
      "33                                  deduction               37\n",
      "92                                   layering               36\n",
      "144                                 enclosure               36\n",
      "101                     commodity speculation               36\n",
      "83       increase value of unchosen resources               35\n",
      "93                       roll / spin and move               35\n",
      "98                               traitor game               34\n",
      "17                              stock holding               33\n",
      "46                        die icon resolution               32\n",
      "68                           delayed purchase               32\n",
      "72                    once-per-game abilities               31\n",
      "82                                     follow               31\n",
      "90                                negotiation               30\n",
      "58               narrative choice / paragraph               30\n",
      "41                                connections               30\n",
      "137                           multi-use cards               28\n",
      "111                         deck construction               28\n",
      "122                      score-and-reset game               27\n",
      "119                                      tags               27\n",
      "81                            action drafting               27\n",
      "104                    re-rolling and locking               26\n",
      "42                      hidden victory points               24\n",
      "64                               line drawing               24\n",
      "14                                 investment               24\n",
      "3                                trick-taking               24\n",
      "131                       sudden death ending               23\n",
      "141                     stat check resolution               23\n",
      "107                          catch the leader               23\n",
      "143                                     bingo               22\n",
      "51                      semi-cooperative game               22\n",
      "113                                      bias               22\n",
      "34                        pattern recognition               21\n",
      "95                           resource to move               20\n",
      "9                           move through deck               20\n",
      "54                                legacy game               19\n",
      "115                           hidden movement               19\n",
      "108                                     loans               18\n",
      "6                               map reduction               18\n",
      "134                    turn order: time track               17\n",
      "146         roles with asymmetric information               17\n",
      "96                     turn order: pass order               16\n",
      "148                                interrupts               16\n",
      "128                            auction: dutch               16\n",
      "117                 automatic resource growth               16\n",
      "43                     highest-lowest scoring               16\n",
      "110                       turn order: auction               15\n",
      "91                                  alliances               15\n",
      "78                                   flicking               15\n",
      "106                             command cards               14\n",
      "147                critical hits and failures               14\n",
      "100            auction: turn order until pass               14\n",
      "21                       melding and splaying               14\n",
      "130              ratio / combat results table               13\n",
      "120                                tug of war               13\n",
      "105                                slide/push               13\n",
      "136                          force commitment               13\n",
      "116                                    acting               13\n",
      "16                          random production               13\n",
      "22                            advantage token               13\n",
      "150                three dimensional movement               12\n",
      "123                             multiple maps               12\n",
      "159                          king of the hill               12\n",
      "99                       auction: once around               12\n",
      "129                         i cut, you choose               12\n",
      "112                              action/event               12\n",
      "140                           map deformation               12\n",
      "139                       constrained bidding               12\n",
      "66                   elapsed real time ending               12\n",
      "142                    stacking and balancing               11\n",
      "124                                  chaining               11\n",
      "89                                    bribery               11\n",
      "152                            predictive bid               10\n",
      "181                       auction: sealed bid               10\n",
      "178                    turn order: role order                9\n",
      "114                       programmed movement                9\n",
      "154                       rock-paper-scissors                9\n",
      "161                             finale ending                9\n",
      "109                       selection order bid                9\n",
      "175                            static capture                9\n",
      "138                  auction: fixed placement                8\n",
      "127                                kill steal                8\n",
      "79                             order counters                8\n",
      "132                           zone of control                8\n",
      "180                            targeted clues                8\n",
      "133                                cube tower                8\n",
      "155                         movement template                8\n",
      "172                          pattern movement                7\n",
      "157                     auction: multiple lot                7\n",
      "47                       measurement movement                7\n",
      "135                           ladder climbing                7\n",
      "156                                   mancala                7\n",
      "164                            speed matching                6\n",
      "121                             pieces as map                6\n",
      "168                        prisoner's dilemma                6\n",
      "158                              area-impulse                6\n",
      "182                          chit-pull system                5\n",
      "174                        turn order: random                5\n",
      "184                                hot potato                5\n",
      "171                               lose a turn                5\n",
      "169                    closed economy auction                5\n",
      "149                        minimap resolution                5\n",
      "160                            neighbor scope                5\n",
      "153                     moving multiple units                4\n",
      "166                         single loser game                4\n",
      "162                                  ordering                3\n",
      "165                   different dice movement                3\n",
      "145                        crayon rail system                3\n",
      "126                              player judge                3\n",
      "176                          physical removal                3\n",
      "177                                  matching                3\n",
      "170                         relative movement                3\n",
      "185                              action timer                2\n",
      "163                      auction compensation                2\n",
      "179                            bids as wagers                2\n",
      "167                                   drawing                2\n",
      "80                    auction: dutch priority                2\n",
      "173                                 induction                1\n",
      "183                       passed action token                1\n",
      "151                            resource queue                1\n",
      "186                          auction: english                1\n",
      "187                     questions and answers                1\n",
      "188                                   singing                1\n"
     ]
    }
   ],
   "source": [
    "# Getting the mechanics names and freqvences to a dictionary\n",
    "\n",
    "mechanics_dict = {}\n",
    "\n",
    "for index, row in df.iterrows():\n",
    "    for mechanic in ast.literal_eval(row[\"mechanic\"]):\n",
    "        mechanics_dict[mechanic.lower()] = mechanics_dict.get(mechanic.lower(),0) + 1\n",
    "\n",
    "# Savig them to df and sorting it\n",
    "df_mechanics = pd.DataFrame(pd.Series(mechanics_dict).reset_index())\n",
    "df_mechanics.columns=[\"Mechanic\",\"Number_of_Games\"]\n",
    "\n",
    "df_mechanics = df_mechanics.sort_values(\"Number_of_Games\", ascending=False)\n",
    "\n",
    "# This will allow terminal to print all rows\n",
    "# pd.options.display.max_rows = None\n",
    "\n",
    "print(df_mechanics)"
   ]
  },
  {
   "cell_type": "code",
   "execution_count": 173,
   "id": "7cbc6fe1",
   "metadata": {},
   "outputs": [
    {
     "name": "stdout",
     "output_type": "stream",
     "text": [
      "189\n",
      "5.7335\n",
      "49\n",
      "88\n"
     ]
    }
   ],
   "source": [
    "# Analysing the df_mechanics:\n",
    "print(df_mechanics.shape[0])\n",
    "print(df_mechanics[\"Number_of_Games\"].sum() / 2000)\n",
    "print(df_mechanics.loc[df_mechanics[\"Number_of_Games\"] < 10].shape[0])\n",
    "print(df_mechanics.loc[df_mechanics[\"Number_of_Games\"] < 20].shape[0])"
   ]
  },
  {
   "cell_type": "markdown",
   "id": "840bbb90",
   "metadata": {},
   "source": [
    "#### FINDINGS: \n",
    "* Total- 189 df_mechanics, on average 5.7 per game\n",
    "* 49 mechanics that have less than 10 games in them.\n",
    "* 88 mechanics that have less than 20 games in them.\n",
    "* Should we ditch these or add a \"other mechanics\" column?"
   ]
  },
  {
   "cell_type": "markdown",
   "id": "a7ced41e",
   "metadata": {},
   "source": [
    "## PRICING"
   ]
  },
  {
   "cell_type": "code",
   "execution_count": 197,
   "id": "efd0bb24",
   "metadata": {
    "scrolled": false
   },
   "outputs": [
    {
     "name": "stdout",
     "output_type": "stream",
     "text": [
      "Price distribution:\n",
      "-1        40.80\n",
      "$39.99     1.45\n",
      "$49.99     1.30\n",
      "$29.99     1.25\n",
      "$24.99     1.20\n",
      "Name: price, dtype: float64\n"
     ]
    }
   ],
   "source": [
    "value_distribution_price = df[\"price\"].value_counts(normalize=True) * 100\n",
    "print(\"Price distribution:\")\n",
    "print(value_distribution_price.head())"
   ]
  },
  {
   "cell_type": "markdown",
   "id": "deb23908",
   "metadata": {},
   "source": [
    "* Price still missing from 40%, more info coming..? \n",
    "* Leave this at this point"
   ]
  },
  {
   "cell_type": "code",
   "execution_count": null,
   "id": "c815d368",
   "metadata": {},
   "outputs": [],
   "source": []
  }
 ],
 "metadata": {
  "kernelspec": {
   "display_name": "Python 3 (ipykernel)",
   "language": "python",
   "name": "python3"
  },
  "language_info": {
   "codemirror_mode": {
    "name": "ipython",
    "version": 3
   },
   "file_extension": ".py",
   "mimetype": "text/x-python",
   "name": "python",
   "nbconvert_exporter": "python",
   "pygments_lexer": "ipython3",
   "version": "3.10.9"
  }
 },
 "nbformat": 4,
 "nbformat_minor": 5
}
